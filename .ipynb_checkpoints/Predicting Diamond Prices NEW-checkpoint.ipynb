{
 "cells": [
  {
   "cell_type": "markdown",
   "metadata": {},
   "source": [
    "# Predicting Diamond Prices"
   ]
  },
  {
   "cell_type": "markdown",
   "metadata": {},
   "source": [
    "### Data Set Information:\n",
    "\n",
    "**A dataset containing the prices and other features of almost 54,000 diamonds.**"
   ]
  },
  {
   "cell_type": "markdown",
   "metadata": {},
   "source": [
    "### Features description\n",
    "\n",
    "**Number of Attributes: 10 (9 predictive features, 1 target)**\n",
    "\n",
    "Feature Information: A data frame with 53,940 rows and 10 variables:\n",
    "\n",
    "price: price in US dollars (\\$326--\\$18,823) **(target)**\n",
    "\n",
    "carat: weight of the diamond (0.2--5.01)\n",
    "\n",
    "cut: quality of the cut (Fair, Good, Very Good, Premium, Ideal)\n",
    "\n",
    "color: diamond colour, from J (worst) to D (best)\n",
    "\n",
    "clarity: a measurement of how clear the diamond is (I1 (worst), SI2, SI1, VS2, VS1, VVS2, VVS1, IF (best))\n",
    "\n",
    "x: length in mm (0--10.74)\n",
    "\n",
    "y: width in mm (0--58.9)\n",
    "\n",
    "z: depth in mm (0--31.8)\n",
    "\n",
    "depth: total depth percentage = z / mean(x, y) = 2 * z / (x + y) (43--79)\n",
    "\n",
    "table: width of top of diamond relative to widest point (43--95)"
   ]
  },
  {
   "cell_type": "code",
   "execution_count": 49,
   "metadata": {},
   "outputs": [],
   "source": [
    "# Importing useful libraries\n",
    "import numpy as np\n",
    "import matplotlib.pyplot as plt\n",
    "import pandas as pd\n",
    "from collections import OrderedDict\n",
    "%matplotlib inline"
   ]
  },
  {
   "cell_type": "code",
   "execution_count": 51,
   "metadata": {},
   "outputs": [],
   "source": [
    "from sklearn.metrics import r2_score\n",
    "from sklearn.metrics import mean_squared_error\n",
    "from sklearn.model_selection import train_test_split\n",
    "from xgboost import XGBRegressor\n",
    "pd.set_option('display.float_format', lambda x: '{:.3f}'.format(x))"
   ]
  },
  {
   "cell_type": "markdown",
   "metadata": {},
   "source": [
    "## 0. Data Preparation"
   ]
  },
  {
   "cell_type": "code",
   "execution_count": 52,
   "metadata": {},
   "outputs": [],
   "source": [
    "# importing data\n",
    "#data_path= '../data/diamonds.csv'\n",
    "diamonds = pd.read_csv(\"diamonds.csv\")"
   ]
  },
  {
   "cell_type": "code",
   "execution_count": 53,
   "metadata": {},
   "outputs": [
    {
     "data": {
      "text/html": [
       "<div>\n",
       "<style scoped>\n",
       "    .dataframe tbody tr th:only-of-type {\n",
       "        vertical-align: middle;\n",
       "    }\n",
       "\n",
       "    .dataframe tbody tr th {\n",
       "        vertical-align: top;\n",
       "    }\n",
       "\n",
       "    .dataframe thead th {\n",
       "        text-align: right;\n",
       "    }\n",
       "</style>\n",
       "<table border=\"1\" class=\"dataframe\">\n",
       "  <thead>\n",
       "    <tr style=\"text-align: right;\">\n",
       "      <th></th>\n",
       "      <th>carat</th>\n",
       "      <th>cut</th>\n",
       "      <th>color</th>\n",
       "      <th>clarity</th>\n",
       "      <th>depth</th>\n",
       "      <th>table</th>\n",
       "      <th>price</th>\n",
       "      <th>x</th>\n",
       "      <th>y</th>\n",
       "      <th>z</th>\n",
       "    </tr>\n",
       "  </thead>\n",
       "  <tbody>\n",
       "    <tr>\n",
       "      <th>0</th>\n",
       "      <td>0.230</td>\n",
       "      <td>Ideal</td>\n",
       "      <td>E</td>\n",
       "      <td>SI2</td>\n",
       "      <td>61.500</td>\n",
       "      <td>55.000</td>\n",
       "      <td>326</td>\n",
       "      <td>3.950</td>\n",
       "      <td>3.980</td>\n",
       "      <td>2.430</td>\n",
       "    </tr>\n",
       "    <tr>\n",
       "      <th>1</th>\n",
       "      <td>0.210</td>\n",
       "      <td>Premium</td>\n",
       "      <td>E</td>\n",
       "      <td>SI1</td>\n",
       "      <td>59.800</td>\n",
       "      <td>61.000</td>\n",
       "      <td>326</td>\n",
       "      <td>3.890</td>\n",
       "      <td>3.840</td>\n",
       "      <td>2.310</td>\n",
       "    </tr>\n",
       "    <tr>\n",
       "      <th>2</th>\n",
       "      <td>0.230</td>\n",
       "      <td>Good</td>\n",
       "      <td>E</td>\n",
       "      <td>VS1</td>\n",
       "      <td>56.900</td>\n",
       "      <td>65.000</td>\n",
       "      <td>327</td>\n",
       "      <td>4.050</td>\n",
       "      <td>4.070</td>\n",
       "      <td>2.310</td>\n",
       "    </tr>\n",
       "    <tr>\n",
       "      <th>3</th>\n",
       "      <td>0.290</td>\n",
       "      <td>Premium</td>\n",
       "      <td>I</td>\n",
       "      <td>VS2</td>\n",
       "      <td>62.400</td>\n",
       "      <td>58.000</td>\n",
       "      <td>334</td>\n",
       "      <td>4.200</td>\n",
       "      <td>4.230</td>\n",
       "      <td>2.630</td>\n",
       "    </tr>\n",
       "    <tr>\n",
       "      <th>4</th>\n",
       "      <td>0.310</td>\n",
       "      <td>Good</td>\n",
       "      <td>J</td>\n",
       "      <td>SI2</td>\n",
       "      <td>63.300</td>\n",
       "      <td>58.000</td>\n",
       "      <td>335</td>\n",
       "      <td>4.340</td>\n",
       "      <td>4.350</td>\n",
       "      <td>2.750</td>\n",
       "    </tr>\n",
       "  </tbody>\n",
       "</table>\n",
       "</div>"
      ],
      "text/plain": [
       "   carat      cut color clarity  depth  table  price     x     y     z\n",
       "0  0.230    Ideal     E     SI2 61.500 55.000    326 3.950 3.980 2.430\n",
       "1  0.210  Premium     E     SI1 59.800 61.000    326 3.890 3.840 2.310\n",
       "2  0.230     Good     E     VS1 56.900 65.000    327 4.050 4.070 2.310\n",
       "3  0.290  Premium     I     VS2 62.400 58.000    334 4.200 4.230 2.630\n",
       "4  0.310     Good     J     SI2 63.300 58.000    335 4.340 4.350 2.750"
      ]
     },
     "execution_count": 53,
     "metadata": {},
     "output_type": "execute_result"
    }
   ],
   "source": [
    "diamonds.head()"
   ]
  },
  {
   "cell_type": "code",
   "execution_count": 54,
   "metadata": {},
   "outputs": [
    {
     "data": {
      "text/plain": [
       "(53940, 10)"
      ]
     },
     "execution_count": 54,
     "metadata": {},
     "output_type": "execute_result"
    }
   ],
   "source": [
    "diamonds.shape"
   ]
  },
  {
   "cell_type": "code",
   "execution_count": 55,
   "metadata": {},
   "outputs": [
    {
     "name": "stdout",
     "output_type": "stream",
     "text": [
      "<class 'pandas.core.frame.DataFrame'>\n",
      "RangeIndex: 53940 entries, 0 to 53939\n",
      "Data columns (total 10 columns):\n",
      " #   Column   Non-Null Count  Dtype  \n",
      "---  ------   --------------  -----  \n",
      " 0   carat    53940 non-null  float64\n",
      " 1   cut      53940 non-null  object \n",
      " 2   color    53940 non-null  object \n",
      " 3   clarity  53940 non-null  object \n",
      " 4   depth    53940 non-null  float64\n",
      " 5   table    53940 non-null  float64\n",
      " 6   price    53940 non-null  int64  \n",
      " 7   x        53940 non-null  float64\n",
      " 8   y        53940 non-null  float64\n",
      " 9   z        53940 non-null  float64\n",
      "dtypes: float64(6), int64(1), object(3)\n",
      "memory usage: 4.1+ MB\n"
     ]
    }
   ],
   "source": [
    "diamonds.info()"
   ]
  },
  {
   "cell_type": "code",
   "execution_count": 56,
   "metadata": {},
   "outputs": [
    {
     "data": {
      "image/png": "[encoded data removed]",
      "text/plain": [
       "<Figure size 1008x432 with 1 Axes>"
      ]
     },
     "metadata": {
      "needs_background": "light"
     },
     "output_type": "display_data"
    }
   ],
   "source": [
    "#Correlation of each feature with the Target\n",
    "corr_with_price = diamonds.corr()[\"price\"].sort_values(ascending=False)\n",
    "plt.figure(figsize=(14,6))\n",
    "corr_with_price.drop(\"price\").plot.bar()\n",
    "plt.show();"
   ]
  },
  {
   "cell_type": "markdown",
   "metadata": {},
   "source": [
    "One of the transformations we must perform is to tranform the categorical features to the one-hot-encoding format."
   ]
  },
  {
   "cell_type": "code",
   "execution_count": 57,
   "metadata": {
    "scrolled": true
   },
   "outputs": [
    {
     "name": "stdout",
     "output_type": "stream",
     "text": [
      "['Ideal' 'Premium' 'Good' 'Very Good' 'Fair']\n",
      "['E' 'I' 'J' 'H' 'F' 'G' 'D']\n",
      "['SI2' 'SI1' 'VS1' 'VS2' 'VVS2' 'VVS1' 'I1' 'IF']\n"
     ]
    }
   ],
   "source": [
    "print(diamonds['cut'].unique())\n",
    "print(diamonds['color'].unique())\n",
    "print(diamonds['clarity'].unique())"
   ]
  },
  {
   "cell_type": "code",
   "execution_count": 58,
   "metadata": {},
   "outputs": [
    {
     "data": {
      "text/plain": [
       "0      Ideal\n",
       "1    Premium\n",
       "2       Good\n",
       "3    Premium\n",
       "4       Good\n",
       "Name: cut, dtype: object"
      ]
     },
     "execution_count": 58,
     "metadata": {},
     "output_type": "execute_result"
    }
   ],
   "source": [
    "diamonds['cut'].head()"
   ]
  },
  {
   "cell_type": "code",
   "execution_count": 59,
   "metadata": {},
   "outputs": [],
   "source": [
    "#Apply one hot encoding\n",
    "diamonds = pd.concat([diamonds, pd.get_dummies(diamonds['cut'], prefix='cut', drop_first=True)],axis=1)\n",
    "diamonds = pd.concat([diamonds, pd.get_dummies(diamonds['color'], prefix='color', drop_first=True)],axis=1)\n",
    "diamonds = pd.concat([diamonds, pd.get_dummies(diamonds['clarity'], prefix='clarity', drop_first=True)],axis=1)\n",
    "diamonds.drop(['cut','color','clarity'], axis=1, inplace=True)"
   ]
  },
  {
   "cell_type": "code",
   "execution_count": 60,
   "metadata": {},
   "outputs": [
    {
     "data": {
      "text/html": [
       "<div>\n",
       "<style scoped>\n",
       "    .dataframe tbody tr th:only-of-type {\n",
       "        vertical-align: middle;\n",
       "    }\n",
       "\n",
       "    .dataframe tbody tr th {\n",
       "        vertical-align: top;\n",
       "    }\n",
       "\n",
       "    .dataframe thead th {\n",
       "        text-align: right;\n",
       "    }\n",
       "</style>\n",
       "<table border=\"1\" class=\"dataframe\">\n",
       "  <thead>\n",
       "    <tr style=\"text-align: right;\">\n",
       "      <th></th>\n",
       "      <th>carat</th>\n",
       "      <th>depth</th>\n",
       "      <th>table</th>\n",
       "      <th>price</th>\n",
       "      <th>x</th>\n",
       "      <th>y</th>\n",
       "      <th>z</th>\n",
       "      <th>cut_Good</th>\n",
       "      <th>cut_Ideal</th>\n",
       "      <th>cut_Premium</th>\n",
       "      <th>...</th>\n",
       "      <th>color_H</th>\n",
       "      <th>color_I</th>\n",
       "      <th>color_J</th>\n",
       "      <th>clarity_IF</th>\n",
       "      <th>clarity_SI1</th>\n",
       "      <th>clarity_SI2</th>\n",
       "      <th>clarity_VS1</th>\n",
       "      <th>clarity_VS2</th>\n",
       "      <th>clarity_VVS1</th>\n",
       "      <th>clarity_VVS2</th>\n",
       "    </tr>\n",
       "  </thead>\n",
       "  <tbody>\n",
       "    <tr>\n",
       "      <th>0</th>\n",
       "      <td>0.230</td>\n",
       "      <td>61.500</td>\n",
       "      <td>55.000</td>\n",
       "      <td>326</td>\n",
       "      <td>3.950</td>\n",
       "      <td>3.980</td>\n",
       "      <td>2.430</td>\n",
       "      <td>0</td>\n",
       "      <td>1</td>\n",
       "      <td>0</td>\n",
       "      <td>...</td>\n",
       "      <td>0</td>\n",
       "      <td>0</td>\n",
       "      <td>0</td>\n",
       "      <td>0</td>\n",
       "      <td>0</td>\n",
       "      <td>1</td>\n",
       "      <td>0</td>\n",
       "      <td>0</td>\n",
       "      <td>0</td>\n",
       "      <td>0</td>\n",
       "    </tr>\n",
       "    <tr>\n",
       "      <th>1</th>\n",
       "      <td>0.210</td>\n",
       "      <td>59.800</td>\n",
       "      <td>61.000</td>\n",
       "      <td>326</td>\n",
       "      <td>3.890</td>\n",
       "      <td>3.840</td>\n",
       "      <td>2.310</td>\n",
       "      <td>0</td>\n",
       "      <td>0</td>\n",
       "      <td>1</td>\n",
       "      <td>...</td>\n",
       "      <td>0</td>\n",
       "      <td>0</td>\n",
       "      <td>0</td>\n",
       "      <td>0</td>\n",
       "      <td>1</td>\n",
       "      <td>0</td>\n",
       "      <td>0</td>\n",
       "      <td>0</td>\n",
       "      <td>0</td>\n",
       "      <td>0</td>\n",
       "    </tr>\n",
       "    <tr>\n",
       "      <th>2</th>\n",
       "      <td>0.230</td>\n",
       "      <td>56.900</td>\n",
       "      <td>65.000</td>\n",
       "      <td>327</td>\n",
       "      <td>4.050</td>\n",
       "      <td>4.070</td>\n",
       "      <td>2.310</td>\n",
       "      <td>1</td>\n",
       "      <td>0</td>\n",
       "      <td>0</td>\n",
       "      <td>...</td>\n",
       "      <td>0</td>\n",
       "      <td>0</td>\n",
       "      <td>0</td>\n",
       "      <td>0</td>\n",
       "      <td>0</td>\n",
       "      <td>0</td>\n",
       "      <td>1</td>\n",
       "      <td>0</td>\n",
       "      <td>0</td>\n",
       "      <td>0</td>\n",
       "    </tr>\n",
       "    <tr>\n",
       "      <th>3</th>\n",
       "      <td>0.290</td>\n",
       "      <td>62.400</td>\n",
       "      <td>58.000</td>\n",
       "      <td>334</td>\n",
       "      <td>4.200</td>\n",
       "      <td>4.230</td>\n",
       "      <td>2.630</td>\n",
       "      <td>0</td>\n",
       "      <td>0</td>\n",
       "      <td>1</td>\n",
       "      <td>...</td>\n",
       "      <td>0</td>\n",
       "      <td>1</td>\n",
       "      <td>0</td>\n",
       "      <td>0</td>\n",
       "      <td>0</td>\n",
       "      <td>0</td>\n",
       "      <td>0</td>\n",
       "      <td>1</td>\n",
       "      <td>0</td>\n",
       "      <td>0</td>\n",
       "    </tr>\n",
       "    <tr>\n",
       "      <th>4</th>\n",
       "      <td>0.310</td>\n",
       "      <td>63.300</td>\n",
       "      <td>58.000</td>\n",
       "      <td>335</td>\n",
       "      <td>4.340</td>\n",
       "      <td>4.350</td>\n",
       "      <td>2.750</td>\n",
       "      <td>1</td>\n",
       "      <td>0</td>\n",
       "      <td>0</td>\n",
       "      <td>...</td>\n",
       "      <td>0</td>\n",
       "      <td>0</td>\n",
       "      <td>1</td>\n",
       "      <td>0</td>\n",
       "      <td>0</td>\n",
       "      <td>1</td>\n",
       "      <td>0</td>\n",
       "      <td>0</td>\n",
       "      <td>0</td>\n",
       "      <td>0</td>\n",
       "    </tr>\n",
       "  </tbody>\n",
       "</table>\n",
       "<p>5 rows × 24 columns</p>\n",
       "</div>"
      ],
      "text/plain": [
       "   carat  depth  table  price     x     y     z  cut_Good  cut_Ideal  \\\n",
       "0  0.230 61.500 55.000    326 3.950 3.980 2.430         0          1   \n",
       "1  0.210 59.800 61.000    326 3.890 3.840 2.310         0          0   \n",
       "2  0.230 56.900 65.000    327 4.050 4.070 2.310         1          0   \n",
       "3  0.290 62.400 58.000    334 4.200 4.230 2.630         0          0   \n",
       "4  0.310 63.300 58.000    335 4.340 4.350 2.750         1          0   \n",
       "\n",
       "   cut_Premium  ...  color_H  color_I  color_J  clarity_IF  clarity_SI1  \\\n",
       "0            0  ...        0        0        0           0            0   \n",
       "1            1  ...        0        0        0           0            1   \n",
       "2            0  ...        0        0        0           0            0   \n",
       "3            1  ...        0        1        0           0            0   \n",
       "4            0  ...        0        0        1           0            0   \n",
       "\n",
       "   clarity_SI2  clarity_VS1  clarity_VS2  clarity_VVS1  clarity_VVS2  \n",
       "0            1            0            0             0             0  \n",
       "1            0            0            0             0             0  \n",
       "2            0            1            0             0             0  \n",
       "3            0            0            1             0             0  \n",
       "4            1            0            0             0             0  \n",
       "\n",
       "[5 rows x 24 columns]"
      ]
     },
     "execution_count": 60,
     "metadata": {},
     "output_type": "execute_result"
    }
   ],
   "source": [
    "diamonds.head()"
   ]
  },
  {
   "cell_type": "code",
   "execution_count": null,
   "metadata": {},
   "outputs": [],
   "source": [
    "#Check for multicollinearity using Heat Map after one hot encoding."
   ]
  },
  {
   "cell_type": "code",
   "execution_count": 61,
   "metadata": {},
   "outputs": [
    {
     "data": {
      "text/plain": [
       "<AxesSubplot:xlabel='carat', ylabel='price'>"
      ]
     },
     "execution_count": 61,
     "metadata": {},
     "output_type": "execute_result"
    },
    {
     "data": {
      "image/png": "[encoded data removed]",
      "text/plain": [
       "<Figure size 432x288 with 1 Axes>"
      ]
     },
     "metadata": {
      "needs_background": "light"
     },
     "output_type": "display_data"
    }
   ],
   "source": [
    "diamonds.plot.scatter(x='carat', y='price')"
   ]
  },
  {
   "cell_type": "markdown",
   "metadata": {},
   "source": [
    "### Scaling: an important operation\n",
    "\n",
    "Since the features have different scales (<code>carat</code> goes from 0 to 5, <code>y</code> goes from 0 to 58) we need to be careful. Making sure that each feature has approximately the same scale can be a crucial preprocessing step. In this case we will use the <code>RobustScaler</code> object which scales the features to a common scale and it is robust to outliers."
   ]
  },
  {
   "cell_type": "markdown",
   "metadata": {},
   "source": [
    "### Getting the train and test sets"
   ]
  },
  {
   "cell_type": "code",
   "execution_count": 62,
   "metadata": {},
   "outputs": [],
   "source": [
    "#Import important libraries for training,preprocessing and evaluation\n",
    "from sklearn.model_selection import train_test_split\n",
    "from sklearn.metrics import mean_squared_error\n",
    "from sklearn.preprocessing import RobustScaler #another preferable choice is \"StandardScaler (works better most times)\""
   ]
  },
  {
   "cell_type": "code",
   "execution_count": 63,
   "metadata": {},
   "outputs": [],
   "source": [
    "target_name = 'price' #set target giving it a name\n",
    "robust_scaler = RobustScaler() #prepare the scaler\n",
    "X = diamonds.drop('price', axis=1) #assign the all features to X variable.\n",
    "X = robust_scaler.fit_transform(X) #notice we drop away the target before applying scaling. Do not scale the target.\n",
    "y = diamonds[target_name] #assign the target to y variable\n",
    "X_train, X_test, y_train, y_test = train_test_split(X, y, test_size=0.2, random_state=123) #do your data splitting"
   ]
  },
  {
   "cell_type": "code",
   "execution_count": null,
   "metadata": {},
   "outputs": [],
   "source": []
  },
  {
   "cell_type": "markdown",
   "metadata": {},
   "source": [
    "# A. Linear Regression"
   ]
  },
  {
   "cell_type": "code",
   "execution_count": 64,
   "metadata": {},
   "outputs": [
    {
     "data": {
      "text/plain": [
       "LinearRegression()"
      ]
     },
     "execution_count": 64,
     "metadata": {},
     "output_type": "execute_result"
    }
   ],
   "source": [
    "# 1. Import the estimator object (model)\n",
    "from sklearn.linear_model import LinearRegression\n",
    "# 2. Create an instance of the estimator\n",
    "linear_regression = LinearRegression()\n",
    "# 3. Use the trainning data to train the estimator\n",
    "linear_regression.fit(X_train, y_train)"
   ]
  },
  {
   "cell_type": "code",
   "execution_count": 65,
   "metadata": {},
   "outputs": [
    {
     "name": "stdout",
     "output_type": "stream",
     "text": [
      "Train r2 score:  0.9131201324730647\n",
      "Test r2 score:  0.9186416642686037\n",
      "Train RMSE: 1128.22\n",
      "Test RMSE: 1136.68\n"
     ]
    }
   ],
   "source": [
    "#Prediction and Model Evaluation (R-squared,MSE,RMSE,MAE)\n",
    "y_train_pred1 = linear_regression.predict(X_train) #Train (Already seen this)\n",
    "y_pred1 = linear_regression.predict(X_test) # Test(New)\n",
    "\n",
    "print('Train r2 score: ', r2_score(y_train_pred1, y_train))\n",
    "print('Test r2 score: ', r2_score(y_test, y_pred1))\n",
    "\n",
    "train_mse1 = mean_squared_error(y_train_pred1, y_train)\n",
    "test_mse1 = mean_squared_error(y_pred1, y_test)\n",
    "\n",
    "train_rmse1 = np.sqrt(train_mse1)\n",
    "test_rmse1 = np.sqrt(test_mse1)\n",
    "print('Train RMSE: %.2f' % train_rmse1)\n",
    "print('Test RMSE: %.2f' % test_rmse1)"
   ]
  },
  {
   "cell_type": "code",
   "execution_count": 66,
   "metadata": {},
   "outputs": [
    {
     "data": {
      "image/png": "[encoded data removed]",
      "text/plain": [
       "<Figure size 576x360 with 1 Axes>"
      ]
     },
     "metadata": {
      "needs_background": "light"
     },
     "output_type": "display_data"
    }
   ],
   "source": [
    "fig, ax = plt.subplots(figsize=(8,5))\n",
    "ax.scatter(linear_regression.predict(X_test), y_test, s=4)\n",
    "ax.plot(y_test, y_test, color='red')\n",
    "ax.set_title('Linear Regression: predictions vs. observed values (test data)')\n",
    "ax.set_xlabel('Predicted prices')\n",
    "ax.set_ylabel('Observed prices');"
   ]
  },
  {
   "cell_type": "markdown",
   "metadata": {},
   "source": [
    "# B. K-Nearest Neighbors Model"
   ]
  },
  {
   "cell_type": "code",
   "execution_count": 67,
   "metadata": {},
   "outputs": [
    {
     "data": {
      "text/plain": [
       "KNeighborsRegressor(metric='euclidean', n_jobs=-1, n_neighbors=10,\n",
       "                    weights='distance')"
      ]
     },
     "execution_count": 67,
     "metadata": {},
     "output_type": "execute_result"
    }
   ],
   "source": [
    "# 1. Import the estimator object (model)\n",
    "from sklearn.neighbors import KNeighborsRegressor\n",
    "# 2. Create an instance of the estimator\n",
    "knn = KNeighborsRegressor(n_neighbors=10, weights='distance', metric='euclidean', n_jobs=-1)\n",
    "# 3. Use the trainning data to train the estimator\n",
    "knn.fit(X_train, y_train)"
   ]
  },
  {
   "cell_type": "code",
   "execution_count": 68,
   "metadata": {},
   "outputs": [
    {
     "name": "stdout",
     "output_type": "stream",
     "text": [
      "Train r2 score:  0.9999953748088543\n",
      "Test r2 score:  0.9566332272202814\n",
      "Train RMSE: 8.58\n",
      "Test RMSE: 829.88\n"
     ]
    }
   ],
   "source": [
    "#Prediction and Model Evaluation\n",
    "y_train_pred2 = knn.predict(X_train)\n",
    "y_pred2 = knn.predict(X_test)\n",
    "\n",
    "print('Train r2 score: ', r2_score(y_train_pred2, y_train))\n",
    "print('Test r2 score: ', r2_score(y_test, y_pred2))\n",
    "train_mse2 = mean_squared_error(y_train_pred2, y_train)\n",
    "test_mse2 = mean_squared_error(y_pred2, y_test)\n",
    "train_rmse2 = np.sqrt(train_mse2)\n",
    "test_rmse2 = np.sqrt(test_mse2)\n",
    "print('Train RMSE: %.2f' % train_rmse2)\n",
    "print('Test RMSE: %.2f' % test_rmse2)"
   ]
  },
  {
   "cell_type": "code",
   "execution_count": 69,
   "metadata": {},
   "outputs": [
    {
     "data": {
      "image/png": "[encoded data removed]",
      "text/plain": [
       "<Figure size 576x360 with 1 Axes>"
      ]
     },
     "metadata": {
      "needs_background": "light"
     },
     "output_type": "display_data"
    }
   ],
   "source": [
    "fig, ax = plt.subplots(figsize=(8,5))\n",
    "ax.scatter(knn.predict(X_test), y_test, s=4)\n",
    "ax.plot(y_test, y_test, color='red')\n",
    "ax.set_title('KNN: predictions vs. observed values (test data)')\n",
    "ax.set_xlabel('Predicted prices')\n",
    "ax.set_ylabel('Observed prices');"
   ]
  },
  {
   "cell_type": "markdown",
   "metadata": {},
   "source": [
    "# C. DECISION TREE MODEL"
   ]
  },
  {
   "cell_type": "code",
   "execution_count": 70,
   "metadata": {},
   "outputs": [
    {
     "data": {
      "text/plain": [
       "DecisionTreeRegressor(max_depth=3)"
      ]
     },
     "execution_count": 70,
     "metadata": {},
     "output_type": "execute_result"
    }
   ],
   "source": [
    "# 1. Import the estimator object (model)\n",
    "from sklearn.tree import DecisionTreeRegressor\n",
    "# 2. Create an instance of the estimator\n",
    "dtree = DecisionTreeRegressor(max_depth=3)\n",
    "# 3. Use the trainning data to train the estimator\n",
    "dtree.fit(X_train, y_train)"
   ]
  },
  {
   "cell_type": "code",
   "execution_count": 71,
   "metadata": {},
   "outputs": [
    {
     "name": "stdout",
     "output_type": "stream",
     "text": [
      "Train r2 score:  0.8553513796022743\n",
      "Test r2 score:  0.8745486162701261\n",
      "Train RMSE: 1418.55\n",
      "Test RMSE: 1411.48\n"
     ]
    }
   ],
   "source": [
    "y_train_pred3 = dtree.predict(X_train)\n",
    "y_pred3 = dtree.predict(X_test)\n",
    "\n",
    "print('Train r2 score: ', r2_score(y_train_pred3, y_train))\n",
    "print('Test r2 score: ', r2_score(y_test, y_pred3))\n",
    "train_mse3 = mean_squared_error(y_train_pred3, y_train)\n",
    "test_mse3 = mean_squared_error(y_pred3, y_test)\n",
    "train_rmse3 = np.sqrt(train_mse3)\n",
    "test_rmse3 = np.sqrt(test_mse3)\n",
    "print('Train RMSE: %.2f' % train_rmse3)\n",
    "print('Test RMSE: %.2f' % test_rmse3)"
   ]
  },
  {
   "cell_type": "code",
   "execution_count": 72,
   "metadata": {},
   "outputs": [
    {
     "data": {
      "image/png": "[encoded data removed]",
      "text/plain": [
       "<Figure size 576x360 with 1 Axes>"
      ]
     },
     "metadata": {
      "needs_background": "light"
     },
     "output_type": "display_data"
    }
   ],
   "source": [
    "fig, ax = plt.subplots(figsize=(8,5))\n",
    "ax.scatter(dtree.predict(X_test), y_test, s=4)\n",
    "ax.plot(y_test, y_test, color='red')\n",
    "ax.set_title('Decision Tree: predictions vs. observed values (test data)')\n",
    "ax.set_xlabel('Predicted prices')\n",
    "ax.set_ylabel('Observed prices');"
   ]
  },
  {
   "cell_type": "markdown",
   "metadata": {},
   "source": [
    "# D. RANDOM FOREST MODEL"
   ]
  },
  {
   "cell_type": "code",
   "execution_count": 73,
   "metadata": {},
   "outputs": [
    {
     "data": {
      "text/plain": [
       "RandomForestRegressor(max_depth=3)"
      ]
     },
     "execution_count": 73,
     "metadata": {},
     "output_type": "execute_result"
    }
   ],
   "source": [
    "from sklearn.ensemble import RandomForestRegressor\n",
    "# 1. Import the estimator object (model)\n",
    "from sklearn.tree import DecisionTreeRegressor\n",
    "# 2. Create an instance of the estimator\n",
    "rf = RandomForestRegressor(max_depth=3) #Notice here also we are using here \"random forest regressor\" not \"random forest classifier\"\n",
    "# 3. Use the trainning data to train the estimator\n",
    "rf.fit(X_train, y_train)"
   ]
  },
  {
   "cell_type": "code",
   "execution_count": 74,
   "metadata": {},
   "outputs": [
    {
     "name": "stdout",
     "output_type": "stream",
     "text": [
      "Train r2 score:  0.8579148492309591\n",
      "Test r2 score:  0.8770937031611558\n",
      "Train RMSE: 1404.04\n",
      "Test RMSE: 1397.09\n"
     ]
    }
   ],
   "source": [
    "y_train_pred4 = rf.predict(X_train)\n",
    "y_pred4 = rf.predict(X_test)\n",
    "\n",
    "print('Train r2 score: ', r2_score(y_train_pred4, y_train))\n",
    "print('Test r2 score: ', r2_score(y_test, y_pred4))\n",
    "train_mse4 = mean_squared_error(y_train_pred4, y_train)\n",
    "test_mse4 = mean_squared_error(y_pred4, y_test)\n",
    "train_rmse4 = np.sqrt(train_mse4)\n",
    "test_rmse4 = np.sqrt(test_mse4)\n",
    "print('Train RMSE: %.2f' % train_rmse4)\n",
    "print('Test RMSE: %.2f' % test_rmse4)"
   ]
  },
  {
   "cell_type": "markdown",
   "metadata": {},
   "source": [
    "# E. XGBOOST "
   ]
  },
  {
   "cell_type": "code",
   "execution_count": 75,
   "metadata": {},
   "outputs": [
    {
     "data": {
      "text/plain": [
       "XGBRegressor(base_score=0.5, booster='gbtree', colsample_bylevel=1,\n",
       "             colsample_bynode=1, colsample_bytree=1, gamma=0, gpu_id=-1,\n",
       "             importance_type='gain', interaction_constraints='',\n",
       "             learning_rate=0.300000012, max_delta_step=0, max_depth=6,\n",
       "             min_child_weight=1, missing=nan, monotone_constraints='()',\n",
       "             n_estimators=100, n_jobs=6, num_parallel_tree=1, random_state=0,\n",
       "             reg_alpha=0, reg_lambda=1, scale_pos_weight=1, subsample=1,\n",
       "             tree_method='exact', validate_parameters=1, verbosity=None)"
      ]
     },
     "execution_count": 75,
     "metadata": {},
     "output_type": "execute_result"
    }
   ],
   "source": [
    "xgb_model1 = XGBRegressor()\n",
    "xgb_model1.fit(X_train, y_train, verbose=False)"
   ]
  },
  {
   "cell_type": "code",
   "execution_count": 76,
   "metadata": {},
   "outputs": [
    {
     "name": "stdout",
     "output_type": "stream",
     "text": [
      "Train r2 score:  0.9883495369859889\n",
      "Test r2 score:  0.9781566972592494\n",
      "Train RMSE: 426.79\n",
      "Test RMSE: 588.97\n"
     ]
    }
   ],
   "source": [
    "y_train_pred5 = xgb_model1.predict(X_train)\n",
    "y_pred5 = xgb_model1.predict(X_test)\n",
    "\n",
    "print('Train r2 score: ', r2_score(y_train_pred5, y_train))\n",
    "print('Test r2 score: ', r2_score(y_test, y_pred5))\n",
    "train_mse5 = mean_squared_error(y_train_pred5, y_train)\n",
    "test_mse5 = mean_squared_error(y_pred5, y_test)\n",
    "train_rmse5 = np.sqrt(train_mse5)\n",
    "test_rmse5 = np.sqrt(test_mse5)\n",
    "print('Train RMSE: %.2f' % train_rmse5)\n",
    "print('Test RMSE: %.2f' % test_rmse5)"
   ]
  },
  {
   "cell_type": "markdown",
   "metadata": {},
   "source": [
    "# XGBoost Model Hyperparameter Tunning"
   ]
  },
  {
   "cell_type": "code",
   "execution_count": 77,
   "metadata": {},
   "outputs": [
    {
     "name": "stdout",
     "output_type": "stream",
     "text": [
      "[0]\tvalidation_0-rmse:3992.99463\n",
      "[1]\tvalidation_0-rmse:2894.45361\n",
      "[2]\tvalidation_0-rmse:2143.69482\n",
      "[3]\tvalidation_0-rmse:1646.86487\n",
      "[4]\tvalidation_0-rmse:1321.80005\n",
      "[5]\tvalidation_0-rmse:1107.45581\n",
      "[6]\tvalidation_0-rmse:984.69006\n",
      "[7]\tvalidation_0-rmse:903.40515\n",
      "[8]\tvalidation_0-rmse:852.51849\n",
      "[9]\tvalidation_0-rmse:816.98261\n",
      "[10]\tvalidation_0-rmse:791.29571\n",
      "[11]\tvalidation_0-rmse:771.33472\n",
      "[12]\tvalidation_0-rmse:759.30200\n",
      "[13]\tvalidation_0-rmse:750.90649\n",
      "[14]\tvalidation_0-rmse:743.73041\n",
      "[15]\tvalidation_0-rmse:738.43433\n",
      "[16]\tvalidation_0-rmse:728.37665\n",
      "[17]\tvalidation_0-rmse:716.31006\n",
      "[18]\tvalidation_0-rmse:707.71375\n",
      "[19]\tvalidation_0-rmse:698.11725\n",
      "[20]\tvalidation_0-rmse:693.82538\n",
      "[21]\tvalidation_0-rmse:689.63080\n",
      "[22]\tvalidation_0-rmse:684.40076\n",
      "[23]\tvalidation_0-rmse:682.91754\n",
      "[24]\tvalidation_0-rmse:678.87793\n",
      "[25]\tvalidation_0-rmse:673.24493\n",
      "[26]\tvalidation_0-rmse:670.10223\n",
      "[27]\tvalidation_0-rmse:664.99182\n",
      "[28]\tvalidation_0-rmse:661.33105\n",
      "[29]\tvalidation_0-rmse:655.90265\n",
      "[30]\tvalidation_0-rmse:651.02203\n",
      "[31]\tvalidation_0-rmse:648.78540\n",
      "[32]\tvalidation_0-rmse:645.97668\n",
      "[33]\tvalidation_0-rmse:641.59888\n",
      "[34]\tvalidation_0-rmse:639.88391\n",
      "[35]\tvalidation_0-rmse:637.80798\n",
      "[36]\tvalidation_0-rmse:636.07672\n",
      "[37]\tvalidation_0-rmse:633.85425\n",
      "[38]\tvalidation_0-rmse:633.19318\n",
      "[39]\tvalidation_0-rmse:631.96484\n",
      "[40]\tvalidation_0-rmse:630.42151\n",
      "[41]\tvalidation_0-rmse:628.33856\n",
      "[42]\tvalidation_0-rmse:626.12891\n",
      "[43]\tvalidation_0-rmse:624.03217\n",
      "[44]\tvalidation_0-rmse:622.04358\n",
      "[45]\tvalidation_0-rmse:621.30933\n",
      "[46]\tvalidation_0-rmse:621.40979\n",
      "[47]\tvalidation_0-rmse:619.42383\n",
      "[48]\tvalidation_0-rmse:619.21240\n",
      "[49]\tvalidation_0-rmse:617.32684\n",
      "[50]\tvalidation_0-rmse:615.85266\n",
      "[51]\tvalidation_0-rmse:615.08734\n",
      "[52]\tvalidation_0-rmse:615.18030\n",
      "[53]\tvalidation_0-rmse:613.68994\n",
      "[54]\tvalidation_0-rmse:612.41016\n",
      "[55]\tvalidation_0-rmse:611.90778\n",
      "[56]\tvalidation_0-rmse:611.50201\n",
      "[57]\tvalidation_0-rmse:607.85938\n",
      "[58]\tvalidation_0-rmse:607.75873\n",
      "[59]\tvalidation_0-rmse:606.70190\n",
      "[60]\tvalidation_0-rmse:605.84412\n",
      "[61]\tvalidation_0-rmse:605.27283\n",
      "[62]\tvalidation_0-rmse:603.97235\n",
      "[63]\tvalidation_0-rmse:603.10004\n",
      "[64]\tvalidation_0-rmse:602.68195\n",
      "[65]\tvalidation_0-rmse:601.96576\n",
      "[66]\tvalidation_0-rmse:600.86883\n",
      "[67]\tvalidation_0-rmse:601.38385\n",
      "[68]\tvalidation_0-rmse:600.98755\n",
      "[69]\tvalidation_0-rmse:600.61169\n",
      "[70]\tvalidation_0-rmse:600.13141\n",
      "[71]\tvalidation_0-rmse:600.09003\n",
      "[72]\tvalidation_0-rmse:599.39685\n",
      "[73]\tvalidation_0-rmse:597.44037\n",
      "[74]\tvalidation_0-rmse:597.50299\n",
      "[75]\tvalidation_0-rmse:597.44971\n",
      "[76]\tvalidation_0-rmse:597.31073\n",
      "[77]\tvalidation_0-rmse:596.07178\n",
      "[78]\tvalidation_0-rmse:595.52997\n",
      "[79]\tvalidation_0-rmse:594.50995\n",
      "[80]\tvalidation_0-rmse:595.59790\n",
      "[81]\tvalidation_0-rmse:594.95807\n",
      "[82]\tvalidation_0-rmse:594.66718\n",
      "[83]\tvalidation_0-rmse:594.55597\n",
      "[84]\tvalidation_0-rmse:594.37860\n",
      "[85]\tvalidation_0-rmse:593.04688\n",
      "[86]\tvalidation_0-rmse:592.09705\n",
      "[87]\tvalidation_0-rmse:591.78332\n",
      "[88]\tvalidation_0-rmse:591.37421\n",
      "[89]\tvalidation_0-rmse:591.36090\n",
      "[90]\tvalidation_0-rmse:591.45190\n",
      "[91]\tvalidation_0-rmse:590.75360\n",
      "[92]\tvalidation_0-rmse:590.53265\n",
      "[93]\tvalidation_0-rmse:589.86652\n",
      "[94]\tvalidation_0-rmse:589.63251\n",
      "[95]\tvalidation_0-rmse:588.62659\n",
      "[96]\tvalidation_0-rmse:589.18951\n",
      "[97]\tvalidation_0-rmse:589.20325\n",
      "[98]\tvalidation_0-rmse:589.15393\n",
      "[99]\tvalidation_0-rmse:588.97351\n",
      "[100]\tvalidation_0-rmse:588.32831\n",
      "[101]\tvalidation_0-rmse:588.82239\n",
      "[102]\tvalidation_0-rmse:588.45752\n",
      "[103]\tvalidation_0-rmse:588.10480\n",
      "[104]\tvalidation_0-rmse:587.90826\n",
      "[105]\tvalidation_0-rmse:587.82007\n",
      "[106]\tvalidation_0-rmse:587.30023\n",
      "[107]\tvalidation_0-rmse:586.75568\n",
      "[108]\tvalidation_0-rmse:587.64667\n",
      "[109]\tvalidation_0-rmse:587.67279\n",
      "[110]\tvalidation_0-rmse:586.83093\n",
      "[111]\tvalidation_0-rmse:586.77905\n",
      "[112]\tvalidation_0-rmse:586.61377\n",
      "[113]\tvalidation_0-rmse:586.27655\n",
      "[114]\tvalidation_0-rmse:586.14935\n",
      "[115]\tvalidation_0-rmse:586.24200\n",
      "[116]\tvalidation_0-rmse:585.73730\n",
      "[117]\tvalidation_0-rmse:585.54480\n",
      "[118]\tvalidation_0-rmse:585.14532\n",
      "[119]\tvalidation_0-rmse:585.17938\n",
      "[120]\tvalidation_0-rmse:584.69190\n",
      "[121]\tvalidation_0-rmse:584.10828\n",
      "[122]\tvalidation_0-rmse:583.74738\n",
      "[123]\tvalidation_0-rmse:583.28308\n",
      "[124]\tvalidation_0-rmse:583.16193\n",
      "[125]\tvalidation_0-rmse:583.02942\n",
      "[126]\tvalidation_0-rmse:582.93048\n",
      "[127]\tvalidation_0-rmse:583.00934\n",
      "[128]\tvalidation_0-rmse:583.17981\n",
      "[129]\tvalidation_0-rmse:583.42969\n",
      "[130]\tvalidation_0-rmse:583.09204\n",
      "Train r2 score:  0.9898151020567415\n",
      "Test r2 score:  0.9786026356005253\n",
      "Train RMSE: 399.4652\n",
      "Test RMSE: 582.9306\n"
     ]
    }
   ],
   "source": [
    "xgb_model2 = XGBRegressor(n_estimators=1000)\n",
    "xgb_model2.fit(X_train, y_train, early_stopping_rounds=5, \n",
    "             eval_set=[(X_test, y_test)], verbose=True)\n",
    "y_train_pred6 = xgb_model2.predict(X_train)\n",
    "y_pred6 = xgb_model2.predict(X_test)\n",
    "\n",
    "print('Train r2 score: ', r2_score(y_train_pred6, y_train))\n",
    "print('Test r2 score: ', r2_score(y_test, y_pred6))\n",
    "train_mse6 = mean_squared_error(y_train_pred6, y_train)\n",
    "test_mse6 = mean_squared_error(y_pred6, y_test)\n",
    "train_rmse6 = np.sqrt(train_mse6)\n",
    "test_rmse6 = np.sqrt(test_mse6)\n",
    "print('Train RMSE: %.4f' % train_rmse6)\n",
    "print('Test RMSE: %.4f' % test_rmse6)"
   ]
  },
  {
   "cell_type": "code",
   "execution_count": null,
   "metadata": {},
   "outputs": [],
   "source": []
  },
  {
   "cell_type": "code",
   "execution_count": null,
   "metadata": {},
   "outputs": [],
   "source": []
  },
  {
   "cell_type": "markdown",
   "metadata": {},
   "source": [
    "## Using XGBoost to predict the price of a diamond\n",
    "\n",
    "If you are happy with your model we can re-train it using all observations, and then use it to make predictions."
   ]
  },
  {
   "cell_type": "code",
   "execution_count": 85,
   "metadata": {},
   "outputs": [],
   "source": [
    "# Making predictions\n",
    "new_diamond = OrderedDict([('carat',0.45), ('depth',62.3), ('table',59.0), ('x',3.95),\n",
    "                           ('y',3.92), ('z',2.45), ('cut_Good',0.0), ('cut_Ideal',0.0),\n",
    "                           ('cut_Premium',1.0), ('cut_Very Good',0.0), ('color_E',0.0), \n",
    "                           ('color_F',0.0), ('color_G',1.0), ('color_H',0.0), ('color_I',0.0),\n",
    "                           ('color_J',0.0), ('clarity_IF',0.0), ('clarity_SI1',0.0),\n",
    "                           ('clarity_SI2',0.0), ('clarity_VS1',0.0), ('clarity_VS2',0.0),\n",
    "                           ('clarity_VVS1',1.0), ('clarity_VVS2',0.0)])\n",
    "\n",
    "new_diamond = pd.Series(new_diamond).values.reshape(1,-1)"
   ]
  },
  {
   "cell_type": "code",
   "execution_count": 79,
   "metadata": {},
   "outputs": [
    {
     "data": {
      "text/plain": [
       "array([[4.50e-01, 6.23e+01, 5.90e+01, 3.95e+00, 3.92e+00, 2.45e+00,\n",
       "        0.00e+00, 0.00e+00, 1.00e+00, 0.00e+00, 0.00e+00, 0.00e+00,\n",
       "        1.00e+00, 0.00e+00, 0.00e+00, 0.00e+00, 0.00e+00, 0.00e+00,\n",
       "        0.00e+00, 0.00e+00, 0.00e+00, 1.00e+00, 0.00e+00, 5.76e-02]])"
      ]
     },
     "execution_count": 79,
     "metadata": {},
     "output_type": "execute_result"
    }
   ],
   "source": [
    "new_diamond"
   ]
  },
  {
   "cell_type": "code",
   "execution_count": 86,
   "metadata": {},
   "outputs": [
    {
     "data": {
      "text/plain": [
       "array([6225.922], dtype=float32)"
      ]
     },
     "execution_count": 86,
     "metadata": {},
     "output_type": "execute_result"
    }
   ],
   "source": [
    "xgb_model2.predict(new_diamond) #Use our best model to predict the price of a new daimond coming in just now."
   ]
  },
  {
   "cell_type": "code",
   "execution_count": null,
   "metadata": {},
   "outputs": [],
   "source": []
  }
 ],
 "metadata": {
  "kernelspec": {
   "display_name": "Python 3",
   "language": "python",
   "name": "python3"
  },
  "language_info": {
   "codemirror_mode": {
    "name": "ipython",
    "version": 3
   },
   "file_extension": ".py",
   "mimetype": "text/x-python",
   "name": "python",
   "nbconvert_exporter": "python",
   "pygments_lexer": "ipython3",
   "version": "3.8.8"
  }
 },
 "nbformat": 4,
 "nbformat_minor": 2
}
